{
 "cells": [
  {
   "cell_type": "markdown",
   "id": "2ac32fc7-6e81-4f6f-bad4-b8b6179fe7f5",
   "metadata": {},
   "source": [
    "# Club Stay"
   ]
  },
  {
   "cell_type": "code",
   "execution_count": 108,
   "id": "ef1f63c4-bebb-48f2-904b-a6c98f278950",
   "metadata": {},
   "outputs": [],
   "source": [
    "# rails app\n",
    "# populate app w seeds\n",
    "# implement/integrate stripe\n",
    "# create stripe users with seeds\n",
    "# modelo de churn > \n",
    "# check if cc is valid + status"
   ]
  },
  {
   "cell_type": "code",
   "execution_count": 64,
   "id": "a388e458-c0c3-4f15-be68-b8501d0a6c3d",
   "metadata": {},
   "outputs": [],
   "source": [
    "import stripe"
   ]
  },
  {
   "cell_type": "code",
   "execution_count": 65,
   "id": "3518b662-e339-499f-934f-4830fbcdd79c",
   "metadata": {},
   "outputs": [],
   "source": [
    "pub_key = \"pk_test_51OkU9VGMdHo5Se5ncZOBddSt9b6rrKVnjYxQDFM4KeGNvZqEQH9oQyhiwZb1nHevn0h7ViTKWzAkyKvwhnSzNuNc00MvcGHn79\"\n",
    "sec_key = \"sk_test_51OkU9VGMdHo5Se5nkdzsG1GttjWCkvrAWEdvIi3Yz3pnTa89SeohoTQn8lF54XLHGmPILtSxokZTCr9wNrpUC9kw007mbNBDXA\""
   ]
  },
  {
   "cell_type": "code",
   "execution_count": 110,
   "id": "b758af75-6df1-4f97-90fa-b75bd5f4b0be",
   "metadata": {},
   "outputs": [],
   "source": [
    "stripe.api_key  = sec_key"
   ]
  },
  {
   "cell_type": "code",
   "execution_count": 109,
   "id": "95ff7833-57e4-44e4-8903-24c40ab50920",
   "metadata": {},
   "outputs": [
    {
     "ename": "PermissionError",
     "evalue": "Request req_xODdYUNoRwp1zn: This API call cannot be made with a publishable API key. Please use a secret API key. You can find a list of your API keys at https://dashboard.stripe.com/account/apikeys.",
     "output_type": "error",
     "traceback": [
      "\u001b[0;31m---------------------------------------------------------------------------\u001b[0m",
      "\u001b[0;31mPermissionError\u001b[0m                           Traceback (most recent call last)",
      "Cell \u001b[0;32mIn [109], line 1\u001b[0m\n\u001b[0;32m----> 1\u001b[0m \u001b[43mstripe\u001b[49m\u001b[38;5;241;43m.\u001b[39;49m\u001b[43mCustomer\u001b[49m\u001b[38;5;241;43m.\u001b[39;49m\u001b[43mcreate\u001b[49m\u001b[43m(\u001b[49m\n\u001b[1;32m      2\u001b[0m \u001b[43m  \u001b[49m\u001b[43mname\u001b[49m\u001b[38;5;241;43m=\u001b[39;49m\u001b[38;5;124;43m\"\u001b[39;49m\u001b[38;5;124;43mJenny Rosen\u001b[39;49m\u001b[38;5;124;43m\"\u001b[39;49m\u001b[43m,\u001b[49m\n\u001b[1;32m      3\u001b[0m \u001b[43m  \u001b[49m\u001b[43memail\u001b[49m\u001b[38;5;241;43m=\u001b[39;49m\u001b[38;5;124;43m\"\u001b[39;49m\u001b[38;5;124;43mjennyrosen@example.com\u001b[39;49m\u001b[38;5;124;43m\"\u001b[39;49m\u001b[43m,\u001b[49m\n\u001b[1;32m      4\u001b[0m \u001b[43m)\u001b[49m\n",
      "File \u001b[0;32m~/.pyenv/versions/lewagon/lib/python3.10/site-packages/stripe/_customer.py:1391\u001b[0m, in \u001b[0;36mCustomer.create\u001b[0;34m(cls, **params)\u001b[0m\n\u001b[1;32m   1384\u001b[0m \u001b[38;5;129m@classmethod\u001b[39m\n\u001b[1;32m   1385\u001b[0m \u001b[38;5;28;01mdef\u001b[39;00m \u001b[38;5;21mcreate\u001b[39m(\u001b[38;5;28mcls\u001b[39m, \u001b[38;5;241m*\u001b[39m\u001b[38;5;241m*\u001b[39mparams: Unpack[\u001b[38;5;124m\"\u001b[39m\u001b[38;5;124mCustomer.CreateParams\u001b[39m\u001b[38;5;124m\"\u001b[39m]) \u001b[38;5;241m-\u001b[39m\u001b[38;5;241m>\u001b[39m \u001b[38;5;124m\"\u001b[39m\u001b[38;5;124mCustomer\u001b[39m\u001b[38;5;124m\"\u001b[39m:\n\u001b[1;32m   1386\u001b[0m     \u001b[38;5;124;03m\"\"\"\u001b[39;00m\n\u001b[1;32m   1387\u001b[0m \u001b[38;5;124;03m    Creates a new customer object.\u001b[39;00m\n\u001b[1;32m   1388\u001b[0m \u001b[38;5;124;03m    \"\"\"\u001b[39;00m\n\u001b[1;32m   1389\u001b[0m     \u001b[38;5;28;01mreturn\u001b[39;00m cast(\n\u001b[1;32m   1390\u001b[0m         \u001b[38;5;124m\"\u001b[39m\u001b[38;5;124mCustomer\u001b[39m\u001b[38;5;124m\"\u001b[39m,\n\u001b[0;32m-> 1391\u001b[0m         \u001b[38;5;28;43mcls\u001b[39;49m\u001b[38;5;241;43m.\u001b[39;49m\u001b[43m_static_request\u001b[49m\u001b[43m(\u001b[49m\n\u001b[1;32m   1392\u001b[0m \u001b[43m            \u001b[49m\u001b[38;5;124;43m\"\u001b[39;49m\u001b[38;5;124;43mpost\u001b[39;49m\u001b[38;5;124;43m\"\u001b[39;49m\u001b[43m,\u001b[49m\n\u001b[1;32m   1393\u001b[0m \u001b[43m            \u001b[49m\u001b[38;5;28;43mcls\u001b[39;49m\u001b[38;5;241;43m.\u001b[39;49m\u001b[43mclass_url\u001b[49m\u001b[43m(\u001b[49m\u001b[43m)\u001b[49m\u001b[43m,\u001b[49m\n\u001b[1;32m   1394\u001b[0m \u001b[43m            \u001b[49m\u001b[43mparams\u001b[49m\u001b[38;5;241;43m=\u001b[39;49m\u001b[43mparams\u001b[49m\u001b[43m,\u001b[49m\n\u001b[1;32m   1395\u001b[0m \u001b[43m        \u001b[49m\u001b[43m)\u001b[49m,\n\u001b[1;32m   1396\u001b[0m     )\n",
      "File \u001b[0;32m~/.pyenv/versions/lewagon/lib/python3.10/site-packages/stripe/_api_resource.py:131\u001b[0m, in \u001b[0;36mAPIResource._static_request\u001b[0;34m(cls, method_, url_, params, base_address, api_mode)\u001b[0m\n\u001b[1;32m    120\u001b[0m \u001b[38;5;129m@classmethod\u001b[39m\n\u001b[1;32m    121\u001b[0m \u001b[38;5;28;01mdef\u001b[39;00m \u001b[38;5;21m_static_request\u001b[39m(\n\u001b[1;32m    122\u001b[0m     \u001b[38;5;28mcls\u001b[39m,\n\u001b[0;32m   (...)\u001b[0m\n\u001b[1;32m    128\u001b[0m     api_mode: ApiMode \u001b[38;5;241m=\u001b[39m \u001b[38;5;124m\"\u001b[39m\u001b[38;5;124mV1\u001b[39m\u001b[38;5;124m\"\u001b[39m,\n\u001b[1;32m    129\u001b[0m ):\n\u001b[1;32m    130\u001b[0m     request_options, request_params \u001b[38;5;241m=\u001b[39m extract_options_from_dict(params)\n\u001b[0;32m--> 131\u001b[0m     \u001b[38;5;28;01mreturn\u001b[39;00m \u001b[43m_APIRequestor\u001b[49m\u001b[38;5;241;43m.\u001b[39;49m\u001b[43m_global_instance\u001b[49m\u001b[43m(\u001b[49m\u001b[43m)\u001b[49m\u001b[38;5;241;43m.\u001b[39;49m\u001b[43mrequest\u001b[49m\u001b[43m(\u001b[49m\n\u001b[1;32m    132\u001b[0m \u001b[43m        \u001b[49m\u001b[43mmethod_\u001b[49m\u001b[43m,\u001b[49m\n\u001b[1;32m    133\u001b[0m \u001b[43m        \u001b[49m\u001b[43murl_\u001b[49m\u001b[43m,\u001b[49m\n\u001b[1;32m    134\u001b[0m \u001b[43m        \u001b[49m\u001b[43mparams\u001b[49m\u001b[38;5;241;43m=\u001b[39;49m\u001b[43mrequest_params\u001b[49m\u001b[43m,\u001b[49m\n\u001b[1;32m    135\u001b[0m \u001b[43m        \u001b[49m\u001b[43moptions\u001b[49m\u001b[38;5;241;43m=\u001b[39;49m\u001b[43mrequest_options\u001b[49m\u001b[43m,\u001b[49m\n\u001b[1;32m    136\u001b[0m \u001b[43m        \u001b[49m\u001b[43mbase_address\u001b[49m\u001b[38;5;241;43m=\u001b[39;49m\u001b[43mbase_address\u001b[49m\u001b[43m,\u001b[49m\n\u001b[1;32m    137\u001b[0m \u001b[43m        \u001b[49m\u001b[43mapi_mode\u001b[49m\u001b[38;5;241;43m=\u001b[39;49m\u001b[43mapi_mode\u001b[49m\u001b[43m,\u001b[49m\n\u001b[1;32m    138\u001b[0m \u001b[43m    \u001b[49m\u001b[43m)\u001b[49m\n",
      "File \u001b[0;32m~/.pyenv/versions/lewagon/lib/python3.10/site-packages/stripe/_api_requestor.py:176\u001b[0m, in \u001b[0;36m_APIRequestor.request\u001b[0;34m(self, method, url, params, options, base_address, api_mode, _usage)\u001b[0m\n\u001b[1;32m    165\u001b[0m requestor \u001b[38;5;241m=\u001b[39m \u001b[38;5;28mself\u001b[39m\u001b[38;5;241m.\u001b[39m_replace_options(options)\n\u001b[1;32m    166\u001b[0m rbody, rcode, rheaders \u001b[38;5;241m=\u001b[39m requestor\u001b[38;5;241m.\u001b[39mrequest_raw(\n\u001b[1;32m    167\u001b[0m     method\u001b[38;5;241m.\u001b[39mlower(),\n\u001b[1;32m    168\u001b[0m     url,\n\u001b[0;32m   (...)\u001b[0m\n\u001b[1;32m    174\u001b[0m     _usage\u001b[38;5;241m=\u001b[39m_usage,\n\u001b[1;32m    175\u001b[0m )\n\u001b[0;32m--> 176\u001b[0m resp \u001b[38;5;241m=\u001b[39m \u001b[43mrequestor\u001b[49m\u001b[38;5;241;43m.\u001b[39;49m\u001b[43m_interpret_response\u001b[49m\u001b[43m(\u001b[49m\u001b[43mrbody\u001b[49m\u001b[43m,\u001b[49m\u001b[43m \u001b[49m\u001b[43mrcode\u001b[49m\u001b[43m,\u001b[49m\u001b[43m \u001b[49m\u001b[43mrheaders\u001b[49m\u001b[43m)\u001b[49m\n\u001b[1;32m    178\u001b[0m \u001b[38;5;28;01mreturn\u001b[39;00m _convert_to_stripe_object(\n\u001b[1;32m    179\u001b[0m     resp\u001b[38;5;241m=\u001b[39mresp,\n\u001b[1;32m    180\u001b[0m     params\u001b[38;5;241m=\u001b[39mparams,\n\u001b[1;32m    181\u001b[0m     requestor\u001b[38;5;241m=\u001b[39mrequestor,\n\u001b[1;32m    182\u001b[0m     api_mode\u001b[38;5;241m=\u001b[39mapi_mode,\n\u001b[1;32m    183\u001b[0m )\n",
      "File \u001b[0;32m~/.pyenv/versions/lewagon/lib/python3.10/site-packages/stripe/_api_requestor.py:569\u001b[0m, in \u001b[0;36m_APIRequestor._interpret_response\u001b[0;34m(self, rbody, rcode, rheaders)\u001b[0m\n\u001b[1;32m    561\u001b[0m     \u001b[38;5;28;01mraise\u001b[39;00m error\u001b[38;5;241m.\u001b[39mAPIError(\n\u001b[1;32m    562\u001b[0m         \u001b[38;5;124m\"\u001b[39m\u001b[38;5;124mInvalid response body from API: \u001b[39m\u001b[38;5;132;01m%s\u001b[39;00m\u001b[38;5;124m \u001b[39m\u001b[38;5;124m\"\u001b[39m\n\u001b[1;32m    563\u001b[0m         \u001b[38;5;124m\"\u001b[39m\u001b[38;5;124m(HTTP response code was \u001b[39m\u001b[38;5;132;01m%d\u001b[39;00m\u001b[38;5;124m)\u001b[39m\u001b[38;5;124m\"\u001b[39m \u001b[38;5;241m%\u001b[39m (rbody, rcode),\n\u001b[0;32m   (...)\u001b[0m\n\u001b[1;32m    566\u001b[0m         rheaders,\n\u001b[1;32m    567\u001b[0m     )\n\u001b[1;32m    568\u001b[0m \u001b[38;5;28;01mif\u001b[39;00m \u001b[38;5;28mself\u001b[39m\u001b[38;5;241m.\u001b[39m_should_handle_code_as_error(rcode):\n\u001b[0;32m--> 569\u001b[0m     \u001b[38;5;28;43mself\u001b[39;49m\u001b[38;5;241;43m.\u001b[39;49m\u001b[43mhandle_error_response\u001b[49m\u001b[43m(\u001b[49m\u001b[43mrbody\u001b[49m\u001b[43m,\u001b[49m\u001b[43m \u001b[49m\u001b[43mrcode\u001b[49m\u001b[43m,\u001b[49m\u001b[43m \u001b[49m\u001b[43mresp\u001b[49m\u001b[38;5;241;43m.\u001b[39;49m\u001b[43mdata\u001b[49m\u001b[43m,\u001b[49m\u001b[43m \u001b[49m\u001b[43mrheaders\u001b[49m\u001b[43m)\u001b[49m\n\u001b[1;32m    570\u001b[0m \u001b[38;5;28;01mreturn\u001b[39;00m resp\n",
      "File \u001b[0;32m~/.pyenv/versions/lewagon/lib/python3.10/site-packages/stripe/_api_requestor.py:242\u001b[0m, in \u001b[0;36m_APIRequestor.handle_error_response\u001b[0;34m(self, rbody, rcode, resp, rheaders)\u001b[0m\n\u001b[1;32m    237\u001b[0m \u001b[38;5;28;01mif\u001b[39;00m err \u001b[38;5;129;01mis\u001b[39;00m \u001b[38;5;28;01mNone\u001b[39;00m:\n\u001b[1;32m    238\u001b[0m     err \u001b[38;5;241m=\u001b[39m \u001b[38;5;28mself\u001b[39m\u001b[38;5;241m.\u001b[39mspecific_api_error(\n\u001b[1;32m    239\u001b[0m         rbody, rcode, resp, rheaders, error_data\n\u001b[1;32m    240\u001b[0m     )\n\u001b[0;32m--> 242\u001b[0m \u001b[38;5;28;01mraise\u001b[39;00m err\n",
      "\u001b[0;31mPermissionError\u001b[0m: Request req_xODdYUNoRwp1zn: This API call cannot be made with a publishable API key. Please use a secret API key. You can find a list of your API keys at https://dashboard.stripe.com/account/apikeys."
     ]
    }
   ],
   "source": [
    "stripe.Customer.create(\n",
    "  name=\"Jenny Rosen\",\n",
    "  email=\"jennyrosen@example.com\",\n",
    ")"
   ]
  },
  {
   "cell_type": "markdown",
   "id": "ec77e07b-3526-4980-8798-1b22ecfe7503",
   "metadata": {},
   "source": [
    "# CC Object"
   ]
  },
  {
   "cell_type": "code",
   "execution_count": 83,
   "id": "1f26d634-5755-40e8-9d1c-516bd83ff7dd",
   "metadata": {},
   "outputs": [],
   "source": [
    "# create credit card obj\n",
    "\n",
    "def create_cc_id(card_num, exp_mo, exp_y, cvc):\n",
    "    try:\n",
    "        payment_method = stripe.PaymentMethod.create(\n",
    "            type=\"card\",\n",
    "            card={\n",
    "                \"number\": card_num,\n",
    "                \"exp_month\": exp_mo,\n",
    "                \"exp_year\": exp_y,\n",
    "                \"cvc\": cvc,\n",
    "            },\n",
    "        )\n",
    "        return payment_method.id\n",
    "    except stripe.error.StripeError as e:\n",
    "        print(f\"Stripe API error occurred: {e}\")\n",
    "        return None"
   ]
  },
  {
   "cell_type": "code",
   "execution_count": 84,
   "id": "c44bbd82-c721-4766-9158-cc54c9b49d68",
   "metadata": {},
   "outputs": [],
   "source": [
    "card = {\n",
    "\n",
    "    \"card_num\": \"5162 9220 2833 2706\",\n",
    "    \"exp_month\": 2,\n",
    "    \"exp_year\": 2032,\n",
    "    \"cvc\": 167\n",
    "}"
   ]
  },
  {
   "cell_type": "code",
   "execution_count": 85,
   "id": "3e0e1cf8-104d-4a27-b455-f7406d9d4784",
   "metadata": {},
   "outputs": [],
   "source": [
    "card_num = card[\"card_num\"]\n",
    "exp_month = card[\"exp_month\"] \n",
    "exp_year = card[\"exp_year\"]\n",
    "cvc = card[\"cvc\"]"
   ]
  },
  {
   "cell_type": "code",
   "execution_count": 98,
   "id": "02a30add-5be8-4cbf-a987-28510b0befae",
   "metadata": {},
   "outputs": [
    {
     "data": {
      "text/plain": [
       "'pm_1OkVuIGMdHo5Se5nYElM5sXW'"
      ]
     },
     "execution_count": 98,
     "metadata": {},
     "output_type": "execute_result"
    }
   ],
   "source": [
    "cc = create_cc_id(card_num, exp_month, exp_year, cvc)\n",
    "cc"
   ]
  },
  {
   "cell_type": "markdown",
   "id": "4f86da85-1c70-4ba6-ad83-efa5127622f9",
   "metadata": {},
   "source": [
    "# Tokenization"
   ]
  },
  {
   "cell_type": "code",
   "execution_count": 87,
   "id": "2361a6df-4e0c-404c-8e4d-bfd91f859a37",
   "metadata": {},
   "outputs": [],
   "source": [
    "url_token = \"https://docs.stripe.com/api/tokens\""
   ]
  },
  {
   "cell_type": "code",
   "execution_count": 88,
   "id": "0d290561-dfc0-4b4e-b684-e77862f1fd0f",
   "metadata": {},
   "outputs": [],
   "source": [
    "resp = requests.get(url_token)"
   ]
  },
  {
   "cell_type": "code",
   "execution_count": 89,
   "id": "3830054e-6c3b-4756-ad26-bb0943cabc64",
   "metadata": {},
   "outputs": [],
   "source": [
    "def tokenize_credit_card(card_number, exp_month, exp_year, cvc):\n",
    "    \"\"\"\n",
    "    Tokenizes a credit card using Stripe's API.\n",
    "\n",
    "    Args:\n",
    "    - card_number (str): The credit card number.\n",
    "    - exp_month (int): The expiration month of the card.\n",
    "    - exp_year (int): The expiration year of the card.\n",
    "    - cvc (str): The card verification code.\n",
    "\n",
    "    Returns:\n",
    "    - str: The ID of the tokenized credit card, or None if an error occurred.\n",
    "    \"\"\"\n",
    "    try:\n",
    "        token = stripe.Token.create(\n",
    "            card={\n",
    "                \"number\": card_number,\n",
    "                \"exp_month\": exp_month,\n",
    "                \"exp_year\": exp_year,\n",
    "                \"cvc\": cvc,\n",
    "            },\n",
    "        )\n",
    "        return token.id\n",
    "    except stripe.error.StripeError as e:\n",
    "        print(f\"Error creating token: {e}\")\n",
    "        return None"
   ]
  },
  {
   "cell_type": "code",
   "execution_count": 90,
   "id": "e59f8ae7-4666-45bd-aa35-0c1dbef6a325",
   "metadata": {},
   "outputs": [
    {
     "data": {
      "text/plain": [
       "'tok_1OkVBEGMdHo5Se5nvnCqEDyf'"
      ]
     },
     "execution_count": 90,
     "metadata": {},
     "output_type": "execute_result"
    }
   ],
   "source": [
    "cc_token = tokenize_credit_card(card_num, exp_month, exp_year, cvc)\n",
    "cc_token"
   ]
  },
  {
   "cell_type": "markdown",
   "id": "e28c7e3f-2c09-4d46-a1a7-d7c23f2e341a",
   "metadata": {},
   "source": [
    "# Get CC Status"
   ]
  },
  {
   "cell_type": "code",
   "execution_count": 91,
   "id": "232b8a0e-2a6c-4362-ab88-14e1847fcc74",
   "metadata": {},
   "outputs": [],
   "source": [
    "def check_credit_card_status(api_url, api_key, card_id):\n",
    "    headers = {\n",
    "        'Authorization': f'Bearer {api_key}',\n",
    "        'Content-Type': 'application/json'\n",
    "    }\n",
    "    response = requests.get(f'{api_url}/credit_card_status/{card_id}', headers=headers)\n",
    "    if response.status_code == 200:\n",
    "        return response.json()  # Assuming the API returns JSON with status info\n",
    "    else:\n",
    "        return None\n",
    "\n",
    "# Example usage\n",
    "api_url = 'https://stripe.com/api'\n",
    "api_key = stripe.api_key\n",
    "card_id = cc\n",
    "\n",
    "status = check_credit_card_status(api_url, api_key, card_id)\n",
    "if status:\n",
    "    print(\"Credit Card Status:\", status)\n",
    "else:\n",
    "    print(\"Failed to retrieve credit card status.\")"
   ]
  },
  {
   "cell_type": "code",
   "execution_count": 107,
   "id": "9ec16ebb-bcbd-45e9-8e71-0b06454088f3",
   "metadata": {},
   "outputs": [
    {
     "name": "stdout",
     "output_type": "stream",
     "text": [
      "None\n"
     ]
    }
   ],
   "source": [
    "print(check_credit_card_status(api_url, api_key, cc))"
   ]
  },
  {
   "cell_type": "code",
   "execution_count": 100,
   "id": "28bf4dd0-598c-4ef6-85b9-11ba820c1686",
   "metadata": {},
   "outputs": [
    {
     "name": "stdout",
     "output_type": "stream",
     "text": [
      "Failed to retrieve credit card status.\n"
     ]
    }
   ],
   "source": [
    "api_url = f'https://stripe.com/api/credit_card_status/{cc}'\n",
    "\n",
    "status = check_credit_card_status(api_url, api_key, card_id)\n",
    "if status:\n",
    "    print(\"Credit Card Status:\", status)\n",
    "else:\n",
    "    print(\"Failed to retrieve credit card status.\")"
   ]
  }
 ],
 "metadata": {
  "kernelspec": {
   "display_name": "Python 3 (ipykernel)",
   "language": "python",
   "name": "python3"
  },
  "language_info": {
   "codemirror_mode": {
    "name": "ipython",
    "version": 3
   },
   "file_extension": ".py",
   "mimetype": "text/x-python",
   "name": "python",
   "nbconvert_exporter": "python",
   "pygments_lexer": "ipython3",
   "version": "3.10.6"
  }
 },
 "nbformat": 4,
 "nbformat_minor": 5
}
