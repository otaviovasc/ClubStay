{
 "cells": [
  {
   "cell_type": "markdown",
   "id": "2ac32fc7-6e81-4f6f-bad4-b8b6179fe7f5",
   "metadata": {},
   "source": [
    "# Club Stay"
   ]
  },
  {
   "cell_type": "code",
   "execution_count": 58,
   "id": "a388e458-c0c3-4f15-be68-b8501d0a6c3d",
   "metadata": {},
   "outputs": [],
   "source": [
    "import stripe\n",
    "import random"
   ]
  },
  {
   "cell_type": "code",
   "execution_count": 59,
   "id": "3518b662-e339-499f-934f-4830fbcdd79c",
   "metadata": {},
   "outputs": [],
   "source": [
    "pub_key = \"pk_test_51OkU9VGMdHo5Se5ncZOBddSt9b6rrKVnjYxQDFM4KeGNvZqEQH9oQyhiwZb1nHevn0h7ViTKWzAkyKvwhnSzNuNc00MvcGHn79\"\n",
    "sec_key = \"sk_test_51OkU9VGMdHo5Se5nkdzsG1GttjWCkvrAWEdvIi3Yz3pnTa89SeohoTQn8lF54XLHGmPILtSxokZTCr9wNrpUC9kw007mbNBDXA\""
   ]
  },
  {
   "cell_type": "code",
   "execution_count": 60,
   "id": "b758af75-6df1-4f97-90fa-b75bd5f4b0be",
   "metadata": {},
   "outputs": [],
   "source": [
    "stripe.api_key  = pub_key"
   ]
  },
  {
   "cell_type": "code",
   "execution_count": 61,
   "id": "11bf8595-58c0-4615-8565-0890d18c1412",
   "metadata": {},
   "outputs": [],
   "source": [
    "def create_customer(name, surname, email, payment_method):\n",
    "    \n",
    "    # create fullname\n",
    "    name = name + \" \" + surname\n",
    "    \n",
    "    user = stripe.Customer.create(\n",
    "        name=name,\n",
    "        email=email,\n",
    "        payment_method=payment_method,\n",
    "    )\n",
    "    \n",
    "    return user"
   ]
  },
  {
   "cell_type": "code",
   "execution_count": 10,
   "id": "1b0e24aa-d100-424b-a7d6-6459c1f9c410",
   "metadata": {},
   "outputs": [
    {
     "ename": "NameError",
     "evalue": "name 'cc' is not defined",
     "output_type": "error",
     "traceback": [
      "\u001b[0;31m---------------------------------------------------------------------------\u001b[0m",
      "\u001b[0;31mNameError\u001b[0m                                 Traceback (most recent call last)",
      "Cell \u001b[0;32mIn [10], line 1\u001b[0m\n\u001b[0;32m----> 1\u001b[0m user \u001b[38;5;241m=\u001b[39m create_customer(\u001b[38;5;124m\"\u001b[39m\u001b[38;5;124mPedro\u001b[39m\u001b[38;5;124m\"\u001b[39m, \u001b[38;5;124m\"\u001b[39m\u001b[38;5;124mSouza\u001b[39m\u001b[38;5;124m\"\u001b[39m, \u001b[38;5;124m\"\u001b[39m\u001b[38;5;124mpedro@email.com\u001b[39m\u001b[38;5;124m\"\u001b[39m, \u001b[43mcc\u001b[49m)\n",
      "\u001b[0;31mNameError\u001b[0m: name 'cc' is not defined"
     ]
    }
   ],
   "source": [
    "user = create_customer(\"Pedro\", \"Souza\", \"pedro@email.com\", cc)"
   ]
  },
  {
   "cell_type": "code",
   "execution_count": 11,
   "id": "045d36a5-91bd-458a-8088-c8027a8018db",
   "metadata": {},
   "outputs": [
    {
     "ename": "NameError",
     "evalue": "name 'get_id_from_username' is not defined",
     "output_type": "error",
     "traceback": [
      "\u001b[0;31m---------------------------------------------------------------------------\u001b[0m",
      "\u001b[0;31mNameError\u001b[0m                                 Traceback (most recent call last)",
      "Cell \u001b[0;32mIn [11], line 1\u001b[0m\n\u001b[0;32m----> 1\u001b[0m \u001b[38;5;28mid\u001b[39m \u001b[38;5;241m=\u001b[39m \u001b[43mget_id_from_username\u001b[49m(\u001b[38;5;124m\"\u001b[39m\u001b[38;5;124mVitor\u001b[39m\u001b[38;5;124m\"\u001b[39m, \u001b[38;5;124m\"\u001b[39m\u001b[38;5;124mZucher\u001b[39m\u001b[38;5;124m\"\u001b[39m)\n\u001b[1;32m      2\u001b[0m \u001b[38;5;28mid\u001b[39m\n",
      "\u001b[0;31mNameError\u001b[0m: name 'get_id_from_username' is not defined"
     ]
    }
   ],
   "source": [
    "id = get_id_from_username(\"Vitor\", \"Zucher\")\n",
    "id"
   ]
  },
  {
   "cell_type": "code",
   "execution_count": 219,
   "id": "80402f54-edaa-4d5a-b1a1-cbb4be2b1beb",
   "metadata": {},
   "outputs": [
    {
     "data": {
      "text/plain": [
       "<PaymentMethod payment_method id=pm_1OkXPyGMdHo5Se5nI6FiK4pM at 0x10cde58f0> JSON: {\n",
       "  \"billing_details\": {\n",
       "    \"address\": {\n",
       "      \"city\": null,\n",
       "      \"country\": null,\n",
       "      \"line1\": null,\n",
       "      \"line2\": null,\n",
       "      \"postal_code\": null,\n",
       "      \"state\": null\n",
       "    },\n",
       "    \"email\": null,\n",
       "    \"name\": null,\n",
       "    \"phone\": null\n",
       "  },\n",
       "  \"card\": {\n",
       "    \"brand\": \"visa\",\n",
       "    \"checks\": {\n",
       "      \"address_line1_check\": null,\n",
       "      \"address_postal_code_check\": null,\n",
       "      \"cvc_check\": \"pass\"\n",
       "    },\n",
       "    \"country\": \"US\",\n",
       "    \"display_brand\": \"visa\",\n",
       "    \"exp_month\": 2,\n",
       "    \"exp_year\": 2032,\n",
       "    \"fingerprint\": \"js54DEXLFkmx6b0C\",\n",
       "    \"funding\": \"credit\",\n",
       "    \"generated_from\": null,\n",
       "    \"last4\": \"4242\",\n",
       "    \"networks\": {\n",
       "      \"available\": [\n",
       "        \"visa\"\n",
       "      ],\n",
       "      \"preferred\": null\n",
       "    },\n",
       "    \"three_d_secure_usage\": {\n",
       "      \"supported\": true\n",
       "    },\n",
       "    \"wallet\": null\n",
       "  },\n",
       "  \"created\": 1708112994,\n",
       "  \"customer\": \"cus_PZgLtc1xOWFUse\",\n",
       "  \"id\": \"pm_1OkXPyGMdHo5Se5nI6FiK4pM\",\n",
       "  \"livemode\": false,\n",
       "  \"metadata\": {},\n",
       "  \"object\": \"payment_method\",\n",
       "  \"type\": \"card\"\n",
       "}"
      ]
     },
     "execution_count": 219,
     "metadata": {},
     "output_type": "execute_result"
    }
   ],
   "source": [
    "stripe.Customer.retrieve_payment_method(\n",
    "  id,\n",
    "  cc\n",
    ")"
   ]
  },
  {
   "cell_type": "code",
   "execution_count": null,
   "id": "97a65811-65bf-4fc1-8555-13baffa3daba",
   "metadata": {},
   "outputs": [],
   "source": [
    "list_users(30).data"
   ]
  },
  {
   "cell_type": "code",
   "execution_count": 327,
   "id": "fa356b33-cc23-40e3-b137-3667ac64463a",
   "metadata": {},
   "outputs": [],
   "source": [
    "stripe.api_key = sec_key"
   ]
  },
  {
   "cell_type": "code",
   "execution_count": 328,
   "id": "fcaaed53-896e-4e51-ba86-5ca57d8ffd9a",
   "metadata": {},
   "outputs": [],
   "source": [
    "# check if credit card is valid\n",
    "def is_valid(payment_id):\n",
    "    try:\n",
    "        payment_method = stripe.PaymentMethod.retrieve(payment_id)\n",
    "        return payment_method[\"card\"][\"checks\"][\"cvc_check\"] == \"pass\"\n",
    "    except stripe.error.StripeError as e:\n",
    "        print(f\"Stripe API error occurred: {e}\")\n",
    "        return False"
   ]
  },
  {
   "cell_type": "code",
   "execution_count": 336,
   "id": "1e14a4dc-7803-442f-a6a0-20a2372e5048",
   "metadata": {},
   "outputs": [
    {
     "data": {
      "text/plain": [
       "True"
      ]
     },
     "execution_count": 336,
     "metadata": {},
     "output_type": "execute_result"
    }
   ],
   "source": [
    "is_valid(cc)"
   ]
  },
  {
   "cell_type": "code",
   "execution_count": 63,
   "id": "550b6910-494b-44b1-accc-60c655784306",
   "metadata": {},
   "outputs": [],
   "source": [
    "def create_card():\n",
    "    \n",
    "    card = {\n",
    "        \"number\": \"4242424242424242\",\n",
    "        \"exp_month\": random.randint(1, 12),\n",
    "        \"exp_year\": random.randint(2025, 2045),\n",
    "        \"cvc\": random.randint(100, 1400),\n",
    "    }\n",
    "    \n",
    "    number = card[\"number\"]\n",
    "    exp_month = card[\"exp_month\"]\n",
    "    exp_year = card[\"exp_year\"]\n",
    "    cvc = card[\"cvc\"]\n",
    "    \n",
    "    return card"
   ]
  },
  {
   "cell_type": "code",
   "execution_count": 64,
   "id": "94f32f0d-9ccc-4a7b-b37f-ed7d0aeb6353",
   "metadata": {},
   "outputs": [
    {
     "data": {
      "text/plain": [
       "{'number': '4242424242424242', 'exp_month': 11, 'exp_year': 2029, 'cvc': 677}"
      ]
     },
     "execution_count": 64,
     "metadata": {},
     "output_type": "execute_result"
    }
   ],
   "source": [
    "card = create_card()\n",
    "card"
   ]
  },
  {
   "cell_type": "code",
   "execution_count": 65,
   "id": "6d7cc2fa-9f7d-4857-9dda-7f8b82d96de8",
   "metadata": {},
   "outputs": [],
   "source": [
    "def create_token(card):\n",
    "    token = stripe.Token.create(\n",
    "        card={\n",
    "            \"number\": card[\"number\"],\n",
    "            \"exp_month\": card[\"exp_month\"],\n",
    "            \"exp_year\": card[\"exp_year\"],\n",
    "            \"cvc\": card[\"cvc\"],\n",
    "        },\n",
    "    )\n",
    "    return token.id"
   ]
  },
  {
   "cell_type": "code",
   "execution_count": 66,
   "id": "68f30aef-c9f7-4536-bf90-884ab9a6d254",
   "metadata": {},
   "outputs": [
    {
     "data": {
      "text/plain": [
       "'tok_1OknIaGMdHo5Se5nWQkqfnFq'"
      ]
     },
     "execution_count": 66,
     "metadata": {},
     "output_type": "execute_result"
    }
   ],
   "source": [
    "token_id = create_token(card)\n",
    "token_id"
   ]
  },
  {
   "cell_type": "code",
   "execution_count": 68,
   "id": "97cf4d46-0574-4a93-a749-c18a6965541d",
   "metadata": {},
   "outputs": [],
   "source": [
    "stripe.api_key  = sec_key"
   ]
  },
  {
   "cell_type": "code",
   "execution_count": 78,
   "id": "5dff264e-509a-4f3d-a1d5-5d211366cb8d",
   "metadata": {},
   "outputs": [
    {
     "ename": "InvalidRequestError",
     "evalue": "Request req_BOUYHAHbZldqfy: A `return_url` must be specified because this Payment Intent is configured to automatically accept the payment methods enabled in the Dashboard, some of which may require a full page redirect to succeed. If you do not want to accept redirect-based payment methods, set `automatic_payment_methods[enabled]` to `true` and `automatic_payment_methods[allow_redirects]` to `never` when creating Setup Intents and Payment Intents.",
     "output_type": "error",
     "traceback": [
      "\u001b[0;31m---------------------------------------------------------------------------\u001b[0m",
      "\u001b[0;31mInvalidRequestError\u001b[0m                       Traceback (most recent call last)",
      "Cell \u001b[0;32mIn [78], line 1\u001b[0m\n\u001b[0;32m----> 1\u001b[0m payment_intent \u001b[38;5;241m=\u001b[39m \u001b[43mstripe\u001b[49m\u001b[38;5;241;43m.\u001b[39;49m\u001b[43mPaymentIntent\u001b[49m\u001b[38;5;241;43m.\u001b[39;49m\u001b[43mcreate\u001b[49m\u001b[43m(\u001b[49m\n\u001b[1;32m      2\u001b[0m \u001b[43m    \u001b[49m\u001b[43mamount\u001b[49m\u001b[38;5;241;43m=\u001b[39;49m\u001b[38;5;241;43m50\u001b[39;49m\u001b[43m,\u001b[49m\n\u001b[1;32m      3\u001b[0m \u001b[43m    \u001b[49m\u001b[43mcurrency\u001b[49m\u001b[38;5;241;43m=\u001b[39;49m\u001b[38;5;124;43m'\u001b[39;49m\u001b[38;5;124;43musd\u001b[39;49m\u001b[38;5;124;43m'\u001b[39;49m\u001b[43m,\u001b[49m\n\u001b[1;32m      4\u001b[0m \u001b[43m    \u001b[49m\u001b[43mpayment_method_data\u001b[49m\u001b[38;5;241;43m=\u001b[39;49m\u001b[43m{\u001b[49m\n\u001b[1;32m      5\u001b[0m \u001b[43m        \u001b[49m\u001b[38;5;124;43m'\u001b[39;49m\u001b[38;5;124;43mtype\u001b[39;49m\u001b[38;5;124;43m'\u001b[39;49m\u001b[43m:\u001b[49m\u001b[43m \u001b[49m\u001b[38;5;124;43m'\u001b[39;49m\u001b[38;5;124;43mcard\u001b[39;49m\u001b[38;5;124;43m'\u001b[39;49m\u001b[43m,\u001b[49m\n\u001b[1;32m      6\u001b[0m \u001b[43m        \u001b[49m\u001b[38;5;124;43m'\u001b[39;49m\u001b[38;5;124;43mcard\u001b[39;49m\u001b[38;5;124;43m'\u001b[39;49m\u001b[43m:\u001b[49m\u001b[43m \u001b[49m\u001b[43m{\u001b[49m\u001b[38;5;124;43m'\u001b[39;49m\u001b[38;5;124;43mtoken\u001b[39;49m\u001b[38;5;124;43m'\u001b[39;49m\u001b[43m:\u001b[49m\u001b[43m \u001b[49m\u001b[43mtoken_id\u001b[49m\u001b[43m}\u001b[49m\u001b[43m,\u001b[49m\n\u001b[1;32m      7\u001b[0m \u001b[43m    \u001b[49m\u001b[43m}\u001b[49m\u001b[43m,\u001b[49m\n\u001b[1;32m      8\u001b[0m \u001b[43m    \u001b[49m\u001b[38;5;66;43;03m# confirmation_method='manual',\u001b[39;49;00m\n\u001b[1;32m      9\u001b[0m \u001b[43m    \u001b[49m\u001b[43mconfirm\u001b[49m\u001b[38;5;241;43m=\u001b[39;49m\u001b[38;5;28;43;01mTrue\u001b[39;49;00m\u001b[43m,\u001b[49m\u001b[43m  \u001b[49m\u001b[38;5;66;43;03m# Automatically try to confirm the intent\u001b[39;49;00m\n\u001b[1;32m     10\u001b[0m \u001b[43m    \u001b[49m\u001b[38;5;66;43;03m# capture_method='manual',  # Do not capture the charge immediately\u001b[39;49;00m\n\u001b[1;32m     11\u001b[0m \u001b[43m)\u001b[49m\n",
      "File \u001b[0;32m~/.pyenv/versions/lewagon/lib/python3.10/site-packages/stripe/_payment_intent.py:8218\u001b[0m, in \u001b[0;36mPaymentIntent.create\u001b[0;34m(cls, **params)\u001b[0m\n\u001b[1;32m   8200\u001b[0m \u001b[38;5;129m@classmethod\u001b[39m\n\u001b[1;32m   8201\u001b[0m \u001b[38;5;28;01mdef\u001b[39;00m \u001b[38;5;21mcreate\u001b[39m(\n\u001b[1;32m   8202\u001b[0m     \u001b[38;5;28mcls\u001b[39m, \u001b[38;5;241m*\u001b[39m\u001b[38;5;241m*\u001b[39mparams: Unpack[\u001b[38;5;124m\"\u001b[39m\u001b[38;5;124mPaymentIntent.CreateParams\u001b[39m\u001b[38;5;124m\"\u001b[39m]\n\u001b[1;32m   8203\u001b[0m ) \u001b[38;5;241m-\u001b[39m\u001b[38;5;241m>\u001b[39m \u001b[38;5;124m\"\u001b[39m\u001b[38;5;124mPaymentIntent\u001b[39m\u001b[38;5;124m\"\u001b[39m:\n\u001b[1;32m   8204\u001b[0m     \u001b[38;5;124;03m\"\"\"\u001b[39;00m\n\u001b[1;32m   8205\u001b[0m \u001b[38;5;124;03m    Creates a PaymentIntent object.\u001b[39;00m\n\u001b[1;32m   8206\u001b[0m \n\u001b[0;32m   (...)\u001b[0m\n\u001b[1;32m   8214\u001b[0m \u001b[38;5;124;03m    confirm=true.\u001b[39;00m\n\u001b[1;32m   8215\u001b[0m \u001b[38;5;124;03m    \"\"\"\u001b[39;00m\n\u001b[1;32m   8216\u001b[0m     \u001b[38;5;28;01mreturn\u001b[39;00m cast(\n\u001b[1;32m   8217\u001b[0m         \u001b[38;5;124m\"\u001b[39m\u001b[38;5;124mPaymentIntent\u001b[39m\u001b[38;5;124m\"\u001b[39m,\n\u001b[0;32m-> 8218\u001b[0m         \u001b[38;5;28;43mcls\u001b[39;49m\u001b[38;5;241;43m.\u001b[39;49m\u001b[43m_static_request\u001b[49m\u001b[43m(\u001b[49m\n\u001b[1;32m   8219\u001b[0m \u001b[43m            \u001b[49m\u001b[38;5;124;43m\"\u001b[39;49m\u001b[38;5;124;43mpost\u001b[39;49m\u001b[38;5;124;43m\"\u001b[39;49m\u001b[43m,\u001b[49m\n\u001b[1;32m   8220\u001b[0m \u001b[43m            \u001b[49m\u001b[38;5;28;43mcls\u001b[39;49m\u001b[38;5;241;43m.\u001b[39;49m\u001b[43mclass_url\u001b[49m\u001b[43m(\u001b[49m\u001b[43m)\u001b[49m\u001b[43m,\u001b[49m\n\u001b[1;32m   8221\u001b[0m \u001b[43m            \u001b[49m\u001b[43mparams\u001b[49m\u001b[38;5;241;43m=\u001b[39;49m\u001b[43mparams\u001b[49m\u001b[43m,\u001b[49m\n\u001b[1;32m   8222\u001b[0m \u001b[43m        \u001b[49m\u001b[43m)\u001b[49m,\n\u001b[1;32m   8223\u001b[0m     )\n",
      "File \u001b[0;32m~/.pyenv/versions/lewagon/lib/python3.10/site-packages/stripe/_api_resource.py:131\u001b[0m, in \u001b[0;36mAPIResource._static_request\u001b[0;34m(cls, method_, url_, params, base_address, api_mode)\u001b[0m\n\u001b[1;32m    120\u001b[0m \u001b[38;5;129m@classmethod\u001b[39m\n\u001b[1;32m    121\u001b[0m \u001b[38;5;28;01mdef\u001b[39;00m \u001b[38;5;21m_static_request\u001b[39m(\n\u001b[1;32m    122\u001b[0m     \u001b[38;5;28mcls\u001b[39m,\n\u001b[0;32m   (...)\u001b[0m\n\u001b[1;32m    128\u001b[0m     api_mode: ApiMode \u001b[38;5;241m=\u001b[39m \u001b[38;5;124m\"\u001b[39m\u001b[38;5;124mV1\u001b[39m\u001b[38;5;124m\"\u001b[39m,\n\u001b[1;32m    129\u001b[0m ):\n\u001b[1;32m    130\u001b[0m     request_options, request_params \u001b[38;5;241m=\u001b[39m extract_options_from_dict(params)\n\u001b[0;32m--> 131\u001b[0m     \u001b[38;5;28;01mreturn\u001b[39;00m \u001b[43m_APIRequestor\u001b[49m\u001b[38;5;241;43m.\u001b[39;49m\u001b[43m_global_instance\u001b[49m\u001b[43m(\u001b[49m\u001b[43m)\u001b[49m\u001b[38;5;241;43m.\u001b[39;49m\u001b[43mrequest\u001b[49m\u001b[43m(\u001b[49m\n\u001b[1;32m    132\u001b[0m \u001b[43m        \u001b[49m\u001b[43mmethod_\u001b[49m\u001b[43m,\u001b[49m\n\u001b[1;32m    133\u001b[0m \u001b[43m        \u001b[49m\u001b[43murl_\u001b[49m\u001b[43m,\u001b[49m\n\u001b[1;32m    134\u001b[0m \u001b[43m        \u001b[49m\u001b[43mparams\u001b[49m\u001b[38;5;241;43m=\u001b[39;49m\u001b[43mrequest_params\u001b[49m\u001b[43m,\u001b[49m\n\u001b[1;32m    135\u001b[0m \u001b[43m        \u001b[49m\u001b[43moptions\u001b[49m\u001b[38;5;241;43m=\u001b[39;49m\u001b[43mrequest_options\u001b[49m\u001b[43m,\u001b[49m\n\u001b[1;32m    136\u001b[0m \u001b[43m        \u001b[49m\u001b[43mbase_address\u001b[49m\u001b[38;5;241;43m=\u001b[39;49m\u001b[43mbase_address\u001b[49m\u001b[43m,\u001b[49m\n\u001b[1;32m    137\u001b[0m \u001b[43m        \u001b[49m\u001b[43mapi_mode\u001b[49m\u001b[38;5;241;43m=\u001b[39;49m\u001b[43mapi_mode\u001b[49m\u001b[43m,\u001b[49m\n\u001b[1;32m    138\u001b[0m \u001b[43m    \u001b[49m\u001b[43m)\u001b[49m\n",
      "File \u001b[0;32m~/.pyenv/versions/lewagon/lib/python3.10/site-packages/stripe/_api_requestor.py:176\u001b[0m, in \u001b[0;36m_APIRequestor.request\u001b[0;34m(self, method, url, params, options, base_address, api_mode, _usage)\u001b[0m\n\u001b[1;32m    165\u001b[0m requestor \u001b[38;5;241m=\u001b[39m \u001b[38;5;28mself\u001b[39m\u001b[38;5;241m.\u001b[39m_replace_options(options)\n\u001b[1;32m    166\u001b[0m rbody, rcode, rheaders \u001b[38;5;241m=\u001b[39m requestor\u001b[38;5;241m.\u001b[39mrequest_raw(\n\u001b[1;32m    167\u001b[0m     method\u001b[38;5;241m.\u001b[39mlower(),\n\u001b[1;32m    168\u001b[0m     url,\n\u001b[0;32m   (...)\u001b[0m\n\u001b[1;32m    174\u001b[0m     _usage\u001b[38;5;241m=\u001b[39m_usage,\n\u001b[1;32m    175\u001b[0m )\n\u001b[0;32m--> 176\u001b[0m resp \u001b[38;5;241m=\u001b[39m \u001b[43mrequestor\u001b[49m\u001b[38;5;241;43m.\u001b[39;49m\u001b[43m_interpret_response\u001b[49m\u001b[43m(\u001b[49m\u001b[43mrbody\u001b[49m\u001b[43m,\u001b[49m\u001b[43m \u001b[49m\u001b[43mrcode\u001b[49m\u001b[43m,\u001b[49m\u001b[43m \u001b[49m\u001b[43mrheaders\u001b[49m\u001b[43m)\u001b[49m\n\u001b[1;32m    178\u001b[0m \u001b[38;5;28;01mreturn\u001b[39;00m _convert_to_stripe_object(\n\u001b[1;32m    179\u001b[0m     resp\u001b[38;5;241m=\u001b[39mresp,\n\u001b[1;32m    180\u001b[0m     params\u001b[38;5;241m=\u001b[39mparams,\n\u001b[1;32m    181\u001b[0m     requestor\u001b[38;5;241m=\u001b[39mrequestor,\n\u001b[1;32m    182\u001b[0m     api_mode\u001b[38;5;241m=\u001b[39mapi_mode,\n\u001b[1;32m    183\u001b[0m )\n",
      "File \u001b[0;32m~/.pyenv/versions/lewagon/lib/python3.10/site-packages/stripe/_api_requestor.py:569\u001b[0m, in \u001b[0;36m_APIRequestor._interpret_response\u001b[0;34m(self, rbody, rcode, rheaders)\u001b[0m\n\u001b[1;32m    561\u001b[0m     \u001b[38;5;28;01mraise\u001b[39;00m error\u001b[38;5;241m.\u001b[39mAPIError(\n\u001b[1;32m    562\u001b[0m         \u001b[38;5;124m\"\u001b[39m\u001b[38;5;124mInvalid response body from API: \u001b[39m\u001b[38;5;132;01m%s\u001b[39;00m\u001b[38;5;124m \u001b[39m\u001b[38;5;124m\"\u001b[39m\n\u001b[1;32m    563\u001b[0m         \u001b[38;5;124m\"\u001b[39m\u001b[38;5;124m(HTTP response code was \u001b[39m\u001b[38;5;132;01m%d\u001b[39;00m\u001b[38;5;124m)\u001b[39m\u001b[38;5;124m\"\u001b[39m \u001b[38;5;241m%\u001b[39m (rbody, rcode),\n\u001b[0;32m   (...)\u001b[0m\n\u001b[1;32m    566\u001b[0m         rheaders,\n\u001b[1;32m    567\u001b[0m     )\n\u001b[1;32m    568\u001b[0m \u001b[38;5;28;01mif\u001b[39;00m \u001b[38;5;28mself\u001b[39m\u001b[38;5;241m.\u001b[39m_should_handle_code_as_error(rcode):\n\u001b[0;32m--> 569\u001b[0m     \u001b[38;5;28;43mself\u001b[39;49m\u001b[38;5;241;43m.\u001b[39;49m\u001b[43mhandle_error_response\u001b[49m\u001b[43m(\u001b[49m\u001b[43mrbody\u001b[49m\u001b[43m,\u001b[49m\u001b[43m \u001b[49m\u001b[43mrcode\u001b[49m\u001b[43m,\u001b[49m\u001b[43m \u001b[49m\u001b[43mresp\u001b[49m\u001b[38;5;241;43m.\u001b[39;49m\u001b[43mdata\u001b[49m\u001b[43m,\u001b[49m\u001b[43m \u001b[49m\u001b[43mrheaders\u001b[49m\u001b[43m)\u001b[49m\n\u001b[1;32m    570\u001b[0m \u001b[38;5;28;01mreturn\u001b[39;00m resp\n",
      "File \u001b[0;32m~/.pyenv/versions/lewagon/lib/python3.10/site-packages/stripe/_api_requestor.py:242\u001b[0m, in \u001b[0;36m_APIRequestor.handle_error_response\u001b[0;34m(self, rbody, rcode, resp, rheaders)\u001b[0m\n\u001b[1;32m    237\u001b[0m \u001b[38;5;28;01mif\u001b[39;00m err \u001b[38;5;129;01mis\u001b[39;00m \u001b[38;5;28;01mNone\u001b[39;00m:\n\u001b[1;32m    238\u001b[0m     err \u001b[38;5;241m=\u001b[39m \u001b[38;5;28mself\u001b[39m\u001b[38;5;241m.\u001b[39mspecific_api_error(\n\u001b[1;32m    239\u001b[0m         rbody, rcode, resp, rheaders, error_data\n\u001b[1;32m    240\u001b[0m     )\n\u001b[0;32m--> 242\u001b[0m \u001b[38;5;28;01mraise\u001b[39;00m err\n",
      "\u001b[0;31mInvalidRequestError\u001b[0m: Request req_BOUYHAHbZldqfy: A `return_url` must be specified because this Payment Intent is configured to automatically accept the payment methods enabled in the Dashboard, some of which may require a full page redirect to succeed. If you do not want to accept redirect-based payment methods, set `automatic_payment_methods[enabled]` to `true` and `automatic_payment_methods[allow_redirects]` to `never` when creating Setup Intents and Payment Intents."
     ]
    }
   ],
   "source": [
    "payment_intent = stripe.PaymentIntent.create(\n",
    "    amount=50,\n",
    "    currency='usd',\n",
    "    payment_method_data={\n",
    "        'type': 'card',\n",
    "        'card': {'token': token_id},\n",
    "    },\n",
    "    # confirmation_method='manual',\n",
    "    confirm=True,  # Automatically try to confirm the intent\n",
    "    # capture_method='manual',  # Do not capture the charge immediately\n",
    ")"
   ]
  },
  {
   "cell_type": "code",
   "execution_count": 73,
   "id": "8ad2143d-0c5d-4cc4-aa8d-078196efe735",
   "metadata": {},
   "outputs": [
    {
     "data": {
      "text/plain": [
       "<PaymentIntent payment_intent id=pi_3OknKjGMdHo5Se5n1MetdpkJ at 0x120b58270> JSON: {\n",
       "  \"amount\": 50,\n",
       "  \"amount_capturable\": 0,\n",
       "  \"amount_details\": {\n",
       "    \"tip\": {}\n",
       "  },\n",
       "  \"amount_received\": 0,\n",
       "  \"application\": null,\n",
       "  \"application_fee_amount\": null,\n",
       "  \"automatic_payment_methods\": null,\n",
       "  \"canceled_at\": null,\n",
       "  \"cancellation_reason\": null,\n",
       "  \"capture_method\": \"manual\",\n",
       "  \"client_secret\": \"pi_3OknKjGMdHo5Se5n1MetdpkJ_secret_KkZ6l9rCEe0xeGegYFhMtLwrX\",\n",
       "  \"confirmation_method\": \"automatic\",\n",
       "  \"created\": 1708174173,\n",
       "  \"currency\": \"usd\",\n",
       "  \"customer\": null,\n",
       "  \"description\": \"Card verification charge\",\n",
       "  \"id\": \"pi_3OknKjGMdHo5Se5n1MetdpkJ\",\n",
       "  \"invoice\": null,\n",
       "  \"last_payment_error\": null,\n",
       "  \"latest_charge\": null,\n",
       "  \"livemode\": false,\n",
       "  \"metadata\": {},\n",
       "  \"next_action\": null,\n",
       "  \"object\": \"payment_intent\",\n",
       "  \"on_behalf_of\": null,\n",
       "  \"payment_method\": null,\n",
       "  \"payment_method_configuration_details\": null,\n",
       "  \"payment_method_options\": {\n",
       "    \"card\": {\n",
       "      \"installments\": null,\n",
       "      \"mandate_options\": null,\n",
       "      \"network\": null,\n",
       "      \"request_three_d_secure\": \"automatic\"\n",
       "    }\n",
       "  },\n",
       "  \"payment_method_types\": [\n",
       "    \"card\"\n",
       "  ],\n",
       "  \"processing\": null,\n",
       "  \"receipt_email\": null,\n",
       "  \"review\": null,\n",
       "  \"setup_future_usage\": null,\n",
       "  \"shipping\": null,\n",
       "  \"source\": null,\n",
       "  \"statement_descriptor\": null,\n",
       "  \"statement_descriptor_suffix\": null,\n",
       "  \"status\": \"requires_payment_method\",\n",
       "  \"transfer_data\": null,\n",
       "  \"transfer_group\": null\n",
       "}"
      ]
     },
     "execution_count": 73,
     "metadata": {},
     "output_type": "execute_result"
    }
   ],
   "source": [
    "payment_intent"
   ]
  },
  {
   "cell_type": "code",
   "execution_count": 72,
   "id": "dfb0ef2f-244d-4272-abb6-4f329050f982",
   "metadata": {},
   "outputs": [
    {
     "name": "stdout",
     "output_type": "stream",
     "text": [
      "PaymentIntent created: pi_3OknKjGMdHo5Se5n1MetdpkJ\n"
     ]
    }
   ],
   "source": [
    " print(\"PaymentIntent created:\", payment_intent.id)"
   ]
  },
  {
   "cell_type": "code",
   "execution_count": 8,
   "id": "1375499f-81e5-4e43-9b51-9c28eceead5f",
   "metadata": {},
   "outputs": [],
   "source": [
    "def create_payment_method_from_token(token_id):\n",
    "    \"\"\"\n",
    "    Creates a payment method from a given token ID.\n",
    "\n",
    "    :param token_id: The ID of the token created for a card.\n",
    "    :return: A Stripe payment method object.\n",
    "    \"\"\"\n",
    "    payment_method = stripe.PaymentMethod.create(\n",
    "        type=\"card\",\n",
    "        card={\"token\": token_id},\n",
    "    )\n",
    "    return payment_method"
   ]
  },
  {
   "cell_type": "code",
   "execution_count": 9,
   "id": "6d63c2fc-60c8-4de8-a7df-8c164e8d561c",
   "metadata": {},
   "outputs": [],
   "source": [
    "pm = create_payment_method_from_token(token_id)"
   ]
  },
  {
   "cell_type": "code",
   "execution_count": 10,
   "id": "72eff1db-4e17-41df-9f07-10b3dda27188",
   "metadata": {},
   "outputs": [
    {
     "data": {
      "text/plain": [
       "'pm_1OkaJyGMdHo5Se5nNWv7Ylb5'"
      ]
     },
     "execution_count": 10,
     "metadata": {},
     "output_type": "execute_result"
    }
   ],
   "source": [
    "pm_id = pm.id\n",
    "pm_id"
   ]
  },
  {
   "cell_type": "code",
   "execution_count": 11,
   "id": "6693710d-a40d-4332-809b-e2ab4a222ae4",
   "metadata": {},
   "outputs": [],
   "source": [
    "stripe.api_key  = sec_key"
   ]
  },
  {
   "cell_type": "code",
   "execution_count": 12,
   "id": "9a654ecb-edb9-4261-9e03-b0774d6eadf0",
   "metadata": {},
   "outputs": [],
   "source": [
    "def create_customer(name, surname, email, payment_method):\n",
    "    \n",
    "    # create fullname\n",
    "    name = name + \" \" + surname\n",
    "    \n",
    "    user = stripe.Customer.create(\n",
    "        name=name,\n",
    "        email=email,\n",
    "        payment_method=payment_method,\n",
    "    )\n",
    "    \n",
    "    return user"
   ]
  },
  {
   "cell_type": "code",
   "execution_count": 13,
   "id": "5a496a5b-e5f6-4bf4-a0d7-2d80ea43d210",
   "metadata": {},
   "outputs": [],
   "source": [
    "customer = create_customer(\"Vitor\", \"Zucher 3\", \"\", pm_id)"
   ]
  },
  {
   "cell_type": "code",
   "execution_count": 14,
   "id": "b541adbf-386c-47fe-a945-d608d4cb52fb",
   "metadata": {},
   "outputs": [],
   "source": [
    "customer_id = customer.id"
   ]
  },
  {
   "cell_type": "code",
   "execution_count": 15,
   "id": "f8751f83-091f-4a7a-b18a-b13ab867c0f0",
   "metadata": {},
   "outputs": [
    {
     "data": {
      "text/plain": [
       "'cus_PZjnCpXiTsUYEi'"
      ]
     },
     "execution_count": 15,
     "metadata": {},
     "output_type": "execute_result"
    }
   ],
   "source": [
    "customer_id"
   ]
  },
  {
   "cell_type": "code",
   "execution_count": 16,
   "id": "baf02431-3fe9-4197-97a4-25363915b998",
   "metadata": {},
   "outputs": [],
   "source": [
    "def attach_and_set_default_payment_method(customer_id, payment_method_id):\n",
    "    # Attach the payment method to the customer\n",
    "    try:\n",
    "        stripe.PaymentMethod.attach(\n",
    "            payment_method_id,\n",
    "            customer=customer_id,\n",
    "        )\n",
    "    except stripe.error.StripeError as e:\n",
    "        print(f\"Error attaching payment method: {e}\")\n",
    "        return None\n",
    "\n",
    "    # Set the attached payment method as the default for the customer\n",
    "    try:\n",
    "        customer = stripe.Customer.modify(\n",
    "            customer_id,\n",
    "            invoice_settings={'default_payment_method': payment_method_id},\n",
    "        )\n",
    "        print(f\"Default payment method for customer {customer_id} has been updated.\")\n",
    "        return customer.id\n",
    "    except stripe.error.StripeError as e:\n",
    "        print(f\"Error setting default payment method: {e}\")\n",
    "        return None"
   ]
  },
  {
   "cell_type": "code",
   "execution_count": 17,
   "id": "d297dc26-5587-442d-9d51-f791b1e1f9c7",
   "metadata": {},
   "outputs": [
    {
     "name": "stdout",
     "output_type": "stream",
     "text": [
      "Default payment method for customer cus_PZjnCpXiTsUYEi has been updated.\n"
     ]
    },
    {
     "data": {
      "text/plain": [
       "'cus_PZjnCpXiTsUYEi'"
      ]
     },
     "execution_count": 17,
     "metadata": {},
     "output_type": "execute_result"
    }
   ],
   "source": [
    "attach_and_set_default_payment_method(customer_id, pm_id)"
   ]
  },
  {
   "cell_type": "code",
   "execution_count": 18,
   "id": "7e1278c6-d9e1-4718-8f22-eba67c591656",
   "metadata": {},
   "outputs": [
    {
     "data": {
      "text/plain": [
       "'pm_1OkaJyGMdHo5Se5nNWv7Ylb5'"
      ]
     },
     "execution_count": 18,
     "metadata": {},
     "output_type": "execute_result"
    }
   ],
   "source": [
    "pm_id"
   ]
  },
  {
   "cell_type": "code",
   "execution_count": 19,
   "id": "ffcaad57-82b4-4c9c-8c3d-caf7119f9b73",
   "metadata": {},
   "outputs": [],
   "source": [
    "def is_valid(payment_id):\n",
    "    payment_method = stripe.PaymentMethod.retrieve(payment_id)\n",
    "    cvc = payment_method.card.checks.cvc_check\n",
    "    \n",
    "    if len(cvc) > 3 or len(cvc) < 3 or cvc == None:\n",
    "        return False\n",
    "    elif cvc == \"pass\":\n",
    "        return True"
   ]
  },
  {
   "cell_type": "code",
   "execution_count": 20,
   "id": "a76bb7e9-c25c-41e9-8b8b-8e31229f26ea",
   "metadata": {},
   "outputs": [
    {
     "data": {
      "text/plain": [
       "False"
      ]
     },
     "execution_count": 20,
     "metadata": {},
     "output_type": "execute_result"
    }
   ],
   "source": [
    "is_valid(pm_id)"
   ]
  },
  {
   "cell_type": "code",
   "execution_count": 21,
   "id": "58bb894b-b6b4-4506-8791-a0b5796883b3",
   "metadata": {},
   "outputs": [
    {
     "data": {
      "text/plain": [
       "'pm_1OkaJyGMdHo5Se5nNWv7Ylb5'"
      ]
     },
     "execution_count": 21,
     "metadata": {},
     "output_type": "execute_result"
    }
   ],
   "source": [
    "pm_id"
   ]
  },
  {
   "cell_type": "code",
   "execution_count": 50,
   "id": "0e7896dd-2936-462d-8fa9-732c36b384d2",
   "metadata": {},
   "outputs": [],
   "source": [
    "def list_users(pm_id):\n",
    "\n",
    "    max = len(stripe.Customer.list(limit=100000))\n",
    "    users = stripe.Customer.list(limit=max)\n",
    "    users = users.data\n",
    "\n",
    "    def get_default_payment_method(customer_id):\n",
    "        customer = stripe.Customer.retrieve(customer_id)\n",
    "        default_payment_method_id = customer.invoice_settings.default_payment_method\n",
    "        return default_payment_method_id\n",
    "\n",
    "    \n",
    "    users_li = []\n",
    "\n",
    "    for user in users:\n",
    "        \n",
    "        user = {\n",
    "            \"id\": user.id,\n",
    "            \"name\": user.name,\n",
    "            \"email\": user.email,\n",
    "            \"payment_method\": user.invoice_settings.default_payment_method,\n",
    "            \"valid\": is_valid(pm_id)\n",
    "        }\n",
    "       \n",
    "        users_li.append(user)\n",
    "    \n",
    "    return users_li"
   ]
  },
  {
   "cell_type": "code",
   "execution_count": 47,
   "id": "fea35841-2ce6-4ad2-9da3-b95c1c68cea1",
   "metadata": {},
   "outputs": [],
   "source": [
    "import pandas as pd"
   ]
  },
  {
   "cell_type": "code",
   "execution_count": 49,
   "id": "d5e64481-29d8-4ba7-87e2-6cfca0c7144c",
   "metadata": {},
   "outputs": [
    {
     "data": {
      "text/html": [
       "<div>\n",
       "<style scoped>\n",
       "    .dataframe tbody tr th:only-of-type {\n",
       "        vertical-align: middle;\n",
       "    }\n",
       "\n",
       "    .dataframe tbody tr th {\n",
       "        vertical-align: top;\n",
       "    }\n",
       "\n",
       "    .dataframe thead th {\n",
       "        text-align: right;\n",
       "    }\n",
       "</style>\n",
       "<table border=\"1\" class=\"dataframe\">\n",
       "  <thead>\n",
       "    <tr style=\"text-align: right;\">\n",
       "      <th></th>\n",
       "      <th>id</th>\n",
       "      <th>name</th>\n",
       "      <th>email</th>\n",
       "      <th>payment_method</th>\n",
       "      <th>valid</th>\n",
       "    </tr>\n",
       "  </thead>\n",
       "  <tbody>\n",
       "    <tr>\n",
       "      <th>0</th>\n",
       "      <td>cus_PZjnCpXiTsUYEi</td>\n",
       "      <td>Vitor Zucher 3</td>\n",
       "      <td>None</td>\n",
       "      <td>pm_1OkaJyGMdHo5Se5nNWv7Ylb5</td>\n",
       "      <td>False</td>\n",
       "    </tr>\n",
       "    <tr>\n",
       "      <th>1</th>\n",
       "      <td>cus_PZjljjFpY7AcKM</td>\n",
       "      <td>Vitor Zucher 3</td>\n",
       "      <td>None</td>\n",
       "      <td>pm_1OkaHNGMdHo5Se5n3SeRXWdC</td>\n",
       "      <td>False</td>\n",
       "    </tr>\n",
       "    <tr>\n",
       "      <th>2</th>\n",
       "      <td>cus_PZjfnMxrojONWO</td>\n",
       "      <td>Giovanni Italiano Massana</td>\n",
       "      <td>None</td>\n",
       "      <td>None</td>\n",
       "      <td>False</td>\n",
       "    </tr>\n",
       "    <tr>\n",
       "      <th>3</th>\n",
       "      <td>cus_PZjTfsZfRXRHDw</td>\n",
       "      <td>Giovanni Italiano Massana</td>\n",
       "      <td>None</td>\n",
       "      <td>None</td>\n",
       "      <td>False</td>\n",
       "    </tr>\n",
       "    <tr>\n",
       "      <th>4</th>\n",
       "      <td>cus_PZjGRG57PAlT76</td>\n",
       "      <td>Giovanni Italiano Massana</td>\n",
       "      <td>None</td>\n",
       "      <td>None</td>\n",
       "      <td>False</td>\n",
       "    </tr>\n",
       "    <tr>\n",
       "      <th>5</th>\n",
       "      <td>cus_PZj3aaw1rXcD95</td>\n",
       "      <td>Giovanni Italiano Massana</td>\n",
       "      <td>None</td>\n",
       "      <td>None</td>\n",
       "      <td>False</td>\n",
       "    </tr>\n",
       "    <tr>\n",
       "      <th>6</th>\n",
       "      <td>cus_PZixbcPWgyEzC4</td>\n",
       "      <td>Giovanni Italiano Massana</td>\n",
       "      <td>None</td>\n",
       "      <td>None</td>\n",
       "      <td>False</td>\n",
       "    </tr>\n",
       "    <tr>\n",
       "      <th>7</th>\n",
       "      <td>cus_PZitBUuaXB02Vd</td>\n",
       "      <td>Giovanni Italiano Massana</td>\n",
       "      <td>None</td>\n",
       "      <td>None</td>\n",
       "      <td>False</td>\n",
       "    </tr>\n",
       "    <tr>\n",
       "      <th>8</th>\n",
       "      <td>cus_PZiorliKFEiyNZ</td>\n",
       "      <td>Giovanni Italiano Massana</td>\n",
       "      <td>None</td>\n",
       "      <td>None</td>\n",
       "      <td>False</td>\n",
       "    </tr>\n",
       "    <tr>\n",
       "      <th>9</th>\n",
       "      <td>cus_PZinJhVRgdgof3</td>\n",
       "      <td>Giovanni Italiano Massana</td>\n",
       "      <td>None</td>\n",
       "      <td>None</td>\n",
       "      <td>False</td>\n",
       "    </tr>\n",
       "    <tr>\n",
       "      <th>10</th>\n",
       "      <td>cus_PZihXu2VA6D3n8</td>\n",
       "      <td>John Doe</td>\n",
       "      <td>None</td>\n",
       "      <td>None</td>\n",
       "      <td>False</td>\n",
       "    </tr>\n",
       "    <tr>\n",
       "      <th>11</th>\n",
       "      <td>cus_PZigw4ibOvrpqi</td>\n",
       "      <td>John Doe</td>\n",
       "      <td>None</td>\n",
       "      <td>None</td>\n",
       "      <td>False</td>\n",
       "    </tr>\n",
       "    <tr>\n",
       "      <th>12</th>\n",
       "      <td>cus_PZifbcIsxOjPIh</td>\n",
       "      <td>Giovanni Italiano Massana</td>\n",
       "      <td>None</td>\n",
       "      <td>None</td>\n",
       "      <td>False</td>\n",
       "    </tr>\n",
       "    <tr>\n",
       "      <th>13</th>\n",
       "      <td>cus_PZidxnQh0CwfeY</td>\n",
       "      <td>Giovane Massana</td>\n",
       "      <td>None</td>\n",
       "      <td>None</td>\n",
       "      <td>False</td>\n",
       "    </tr>\n",
       "    <tr>\n",
       "      <th>14</th>\n",
       "      <td>cus_PZiU5fxFzVg0mJ</td>\n",
       "      <td>John Doe</td>\n",
       "      <td>None</td>\n",
       "      <td>None</td>\n",
       "      <td>False</td>\n",
       "    </tr>\n",
       "    <tr>\n",
       "      <th>15</th>\n",
       "      <td>cus_PZiBM0FOoDJe44</td>\n",
       "      <td>Pedro Souza</td>\n",
       "      <td>pedro@email.com</td>\n",
       "      <td>None</td>\n",
       "      <td>False</td>\n",
       "    </tr>\n",
       "    <tr>\n",
       "      <th>16</th>\n",
       "      <td>cus_PZi8hgx9t8CFgA</td>\n",
       "      <td>Otavio Tavares</td>\n",
       "      <td>tata@example.com</td>\n",
       "      <td>None</td>\n",
       "      <td>False</td>\n",
       "    </tr>\n",
       "    <tr>\n",
       "      <th>17</th>\n",
       "      <td>cus_PZi4UdQ0aiZSw4</td>\n",
       "      <td>John Doe</td>\n",
       "      <td>None</td>\n",
       "      <td>None</td>\n",
       "      <td>False</td>\n",
       "    </tr>\n",
       "    <tr>\n",
       "      <th>18</th>\n",
       "      <td>cus_PZi3rMCZJRo6LH</td>\n",
       "      <td>John Doe</td>\n",
       "      <td>None</td>\n",
       "      <td>None</td>\n",
       "      <td>False</td>\n",
       "    </tr>\n",
       "    <tr>\n",
       "      <th>19</th>\n",
       "      <td>cus_PZi3Zg6s9cKHSu</td>\n",
       "      <td>John Doe</td>\n",
       "      <td>None</td>\n",
       "      <td>None</td>\n",
       "      <td>False</td>\n",
       "    </tr>\n",
       "    <tr>\n",
       "      <th>20</th>\n",
       "      <td>cus_PZi3V6CD2nJBvl</td>\n",
       "      <td>John Doe</td>\n",
       "      <td>None</td>\n",
       "      <td>None</td>\n",
       "      <td>False</td>\n",
       "    </tr>\n",
       "    <tr>\n",
       "      <th>21</th>\n",
       "      <td>cus_PZhQlsN7v91lui</td>\n",
       "      <td>Otavio Tavares</td>\n",
       "      <td>tata@example.com</td>\n",
       "      <td>None</td>\n",
       "      <td>False</td>\n",
       "    </tr>\n",
       "    <tr>\n",
       "      <th>22</th>\n",
       "      <td>cus_PZhDQC0aXRbFqK</td>\n",
       "      <td>Goku Silva</td>\n",
       "      <td>goku@email.com</td>\n",
       "      <td>None</td>\n",
       "      <td>False</td>\n",
       "    </tr>\n",
       "    <tr>\n",
       "      <th>23</th>\n",
       "      <td>cus_PZh7rdGEsVRNPN</td>\n",
       "      <td>Otavio Tavares</td>\n",
       "      <td>tata@example.com</td>\n",
       "      <td>None</td>\n",
       "      <td>False</td>\n",
       "    </tr>\n",
       "    <tr>\n",
       "      <th>24</th>\n",
       "      <td>cus_PZgtgNnS31dn4F</td>\n",
       "      <td>Otavio Tavares</td>\n",
       "      <td>tata@example.com</td>\n",
       "      <td>None</td>\n",
       "      <td>False</td>\n",
       "    </tr>\n",
       "    <tr>\n",
       "      <th>25</th>\n",
       "      <td>cus_PZgLtc1xOWFUse</td>\n",
       "      <td>Vitor Zucher</td>\n",
       "      <td>vzucher@example.com</td>\n",
       "      <td>None</td>\n",
       "      <td>False</td>\n",
       "    </tr>\n",
       "    <tr>\n",
       "      <th>26</th>\n",
       "      <td>cus_PZgAgf9vggoCKR</td>\n",
       "      <td>Jenny Rosen</td>\n",
       "      <td>jennyrosen@example.com</td>\n",
       "      <td>None</td>\n",
       "      <td>False</td>\n",
       "    </tr>\n",
       "    <tr>\n",
       "      <th>27</th>\n",
       "      <td>cus_PZg16LstJRL0mb</td>\n",
       "      <td>Jenny Rosen</td>\n",
       "      <td>jennyrosen@example.com</td>\n",
       "      <td>None</td>\n",
       "      <td>False</td>\n",
       "    </tr>\n",
       "  </tbody>\n",
       "</table>\n",
       "</div>"
      ],
      "text/plain": [
       "                    id                       name                   email  \\\n",
       "0   cus_PZjnCpXiTsUYEi             Vitor Zucher 3                    None   \n",
       "1   cus_PZjljjFpY7AcKM             Vitor Zucher 3                    None   \n",
       "2   cus_PZjfnMxrojONWO  Giovanni Italiano Massana                    None   \n",
       "3   cus_PZjTfsZfRXRHDw  Giovanni Italiano Massana                    None   \n",
       "4   cus_PZjGRG57PAlT76  Giovanni Italiano Massana                    None   \n",
       "5   cus_PZj3aaw1rXcD95  Giovanni Italiano Massana                    None   \n",
       "6   cus_PZixbcPWgyEzC4  Giovanni Italiano Massana                    None   \n",
       "7   cus_PZitBUuaXB02Vd  Giovanni Italiano Massana                    None   \n",
       "8   cus_PZiorliKFEiyNZ  Giovanni Italiano Massana                    None   \n",
       "9   cus_PZinJhVRgdgof3  Giovanni Italiano Massana                    None   \n",
       "10  cus_PZihXu2VA6D3n8                   John Doe                    None   \n",
       "11  cus_PZigw4ibOvrpqi                   John Doe                    None   \n",
       "12  cus_PZifbcIsxOjPIh  Giovanni Italiano Massana                    None   \n",
       "13  cus_PZidxnQh0CwfeY            Giovane Massana                    None   \n",
       "14  cus_PZiU5fxFzVg0mJ                   John Doe                    None   \n",
       "15  cus_PZiBM0FOoDJe44                Pedro Souza         pedro@email.com   \n",
       "16  cus_PZi8hgx9t8CFgA             Otavio Tavares        tata@example.com   \n",
       "17  cus_PZi4UdQ0aiZSw4                   John Doe                    None   \n",
       "18  cus_PZi3rMCZJRo6LH                   John Doe                    None   \n",
       "19  cus_PZi3Zg6s9cKHSu                   John Doe                    None   \n",
       "20  cus_PZi3V6CD2nJBvl                   John Doe                    None   \n",
       "21  cus_PZhQlsN7v91lui             Otavio Tavares        tata@example.com   \n",
       "22  cus_PZhDQC0aXRbFqK                 Goku Silva          goku@email.com   \n",
       "23  cus_PZh7rdGEsVRNPN             Otavio Tavares        tata@example.com   \n",
       "24  cus_PZgtgNnS31dn4F             Otavio Tavares        tata@example.com   \n",
       "25  cus_PZgLtc1xOWFUse               Vitor Zucher     vzucher@example.com   \n",
       "26  cus_PZgAgf9vggoCKR                Jenny Rosen  jennyrosen@example.com   \n",
       "27  cus_PZg16LstJRL0mb                Jenny Rosen  jennyrosen@example.com   \n",
       "\n",
       "                 payment_method  valid  \n",
       "0   pm_1OkaJyGMdHo5Se5nNWv7Ylb5  False  \n",
       "1   pm_1OkaHNGMdHo5Se5n3SeRXWdC  False  \n",
       "2                          None  False  \n",
       "3                          None  False  \n",
       "4                          None  False  \n",
       "5                          None  False  \n",
       "6                          None  False  \n",
       "7                          None  False  \n",
       "8                          None  False  \n",
       "9                          None  False  \n",
       "10                         None  False  \n",
       "11                         None  False  \n",
       "12                         None  False  \n",
       "13                         None  False  \n",
       "14                         None  False  \n",
       "15                         None  False  \n",
       "16                         None  False  \n",
       "17                         None  False  \n",
       "18                         None  False  \n",
       "19                         None  False  \n",
       "20                         None  False  \n",
       "21                         None  False  \n",
       "22                         None  False  \n",
       "23                         None  False  \n",
       "24                         None  False  \n",
       "25                         None  False  \n",
       "26                         None  False  \n",
       "27                         None  False  "
      ]
     },
     "execution_count": 49,
     "metadata": {},
     "output_type": "execute_result"
    }
   ],
   "source": [
    "# create dataframe \n",
    "df = pd.DataFrame(users_li)\n",
    "df"
   ]
  },
  {
   "cell_type": "code",
   "execution_count": 55,
   "id": "49cc349d-aa2b-4cd5-b73b-a9333f4e2d0d",
   "metadata": {},
   "outputs": [],
   "source": [
    "def main():\n",
    "\n",
    "    \n",
    "    card = create_card()\n",
    "    stripe.api_key  = pub_key\n",
    "    token_id = create_token(card)\n",
    "    pm = create_payment_method_from_token(token_id)\n",
    "    pm_id = pm.id\n",
    "    stripe.api_key = sec_key\n",
    "    customer = create_customer(\"John\", \"Doe\", \"\", pm_id)\n",
    "    customer_id = customer.id\n",
    "    attach_and_set_default_payment_method(customer_id, pm_id)\n",
    "    valid = is_valid(pm_id)\n",
    "    users_li = list_users(pm_id)\n",
    "    \n",
    "    \n",
    "    return users_li"
   ]
  },
  {
   "cell_type": "code",
   "execution_count": 56,
   "id": "7e0d0eef-7bf5-4c5a-b9f3-d2ccb5cbe380",
   "metadata": {},
   "outputs": [
    {
     "name": "stdout",
     "output_type": "stream",
     "text": [
      "Default payment method for customer cus_PZk1guVAKktri3 has been updated.\n"
     ]
    }
   ],
   "source": [
    "users_li = main()"
   ]
  },
  {
   "cell_type": "code",
   "execution_count": 57,
   "id": "c61989ee-935e-48c0-bfef-62d746f80841",
   "metadata": {
    "scrolled": true
   },
   "outputs": [
    {
     "data": {
      "text/plain": [
       "[{'id': 'cus_PZk1guVAKktri3',\n",
       "  'name': 'John Doe',\n",
       "  'email': None,\n",
       "  'payment_method': 'pm_1OkaX4GMdHo5Se5nBbU6NTKh',\n",
       "  'valid': False},\n",
       " {'id': 'cus_PZjnCpXiTsUYEi',\n",
       "  'name': 'Vitor Zucher 3',\n",
       "  'email': None,\n",
       "  'payment_method': 'pm_1OkaJyGMdHo5Se5nNWv7Ylb5',\n",
       "  'valid': False},\n",
       " {'id': 'cus_PZjljjFpY7AcKM',\n",
       "  'name': 'Vitor Zucher 3',\n",
       "  'email': None,\n",
       "  'payment_method': 'pm_1OkaHNGMdHo5Se5n3SeRXWdC',\n",
       "  'valid': False},\n",
       " {'id': 'cus_PZjfnMxrojONWO',\n",
       "  'name': 'Giovanni Italiano Massana',\n",
       "  'email': None,\n",
       "  'payment_method': None,\n",
       "  'valid': False},\n",
       " {'id': 'cus_PZjTfsZfRXRHDw',\n",
       "  'name': 'Giovanni Italiano Massana',\n",
       "  'email': None,\n",
       "  'payment_method': None,\n",
       "  'valid': False},\n",
       " {'id': 'cus_PZjGRG57PAlT76',\n",
       "  'name': 'Giovanni Italiano Massana',\n",
       "  'email': None,\n",
       "  'payment_method': None,\n",
       "  'valid': False},\n",
       " {'id': 'cus_PZj3aaw1rXcD95',\n",
       "  'name': 'Giovanni Italiano Massana',\n",
       "  'email': None,\n",
       "  'payment_method': None,\n",
       "  'valid': False},\n",
       " {'id': 'cus_PZixbcPWgyEzC4',\n",
       "  'name': 'Giovanni Italiano Massana',\n",
       "  'email': None,\n",
       "  'payment_method': None,\n",
       "  'valid': False},\n",
       " {'id': 'cus_PZitBUuaXB02Vd',\n",
       "  'name': 'Giovanni Italiano Massana',\n",
       "  'email': None,\n",
       "  'payment_method': None,\n",
       "  'valid': False},\n",
       " {'id': 'cus_PZiorliKFEiyNZ',\n",
       "  'name': 'Giovanni Italiano Massana',\n",
       "  'email': None,\n",
       "  'payment_method': None,\n",
       "  'valid': False},\n",
       " {'id': 'cus_PZinJhVRgdgof3',\n",
       "  'name': 'Giovanni Italiano Massana',\n",
       "  'email': None,\n",
       "  'payment_method': None,\n",
       "  'valid': False},\n",
       " {'id': 'cus_PZihXu2VA6D3n8',\n",
       "  'name': 'John Doe',\n",
       "  'email': None,\n",
       "  'payment_method': None,\n",
       "  'valid': False},\n",
       " {'id': 'cus_PZigw4ibOvrpqi',\n",
       "  'name': 'John Doe',\n",
       "  'email': None,\n",
       "  'payment_method': None,\n",
       "  'valid': False},\n",
       " {'id': 'cus_PZifbcIsxOjPIh',\n",
       "  'name': 'Giovanni Italiano Massana',\n",
       "  'email': None,\n",
       "  'payment_method': None,\n",
       "  'valid': False},\n",
       " {'id': 'cus_PZidxnQh0CwfeY',\n",
       "  'name': 'Giovane Massana',\n",
       "  'email': None,\n",
       "  'payment_method': None,\n",
       "  'valid': False},\n",
       " {'id': 'cus_PZiU5fxFzVg0mJ',\n",
       "  'name': 'John Doe',\n",
       "  'email': None,\n",
       "  'payment_method': None,\n",
       "  'valid': False},\n",
       " {'id': 'cus_PZiBM0FOoDJe44',\n",
       "  'name': 'Pedro Souza',\n",
       "  'email': 'pedro@email.com',\n",
       "  'payment_method': None,\n",
       "  'valid': False},\n",
       " {'id': 'cus_PZi8hgx9t8CFgA',\n",
       "  'name': 'Otavio Tavares',\n",
       "  'email': 'tata@example.com',\n",
       "  'payment_method': None,\n",
       "  'valid': False},\n",
       " {'id': 'cus_PZi4UdQ0aiZSw4',\n",
       "  'name': 'John Doe',\n",
       "  'email': None,\n",
       "  'payment_method': None,\n",
       "  'valid': False},\n",
       " {'id': 'cus_PZi3rMCZJRo6LH',\n",
       "  'name': 'John Doe',\n",
       "  'email': None,\n",
       "  'payment_method': None,\n",
       "  'valid': False},\n",
       " {'id': 'cus_PZi3Zg6s9cKHSu',\n",
       "  'name': 'John Doe',\n",
       "  'email': None,\n",
       "  'payment_method': None,\n",
       "  'valid': False},\n",
       " {'id': 'cus_PZi3V6CD2nJBvl',\n",
       "  'name': 'John Doe',\n",
       "  'email': None,\n",
       "  'payment_method': None,\n",
       "  'valid': False},\n",
       " {'id': 'cus_PZhQlsN7v91lui',\n",
       "  'name': 'Otavio Tavares',\n",
       "  'email': 'tata@example.com',\n",
       "  'payment_method': None,\n",
       "  'valid': False},\n",
       " {'id': 'cus_PZhDQC0aXRbFqK',\n",
       "  'name': 'Goku Silva',\n",
       "  'email': 'goku@email.com',\n",
       "  'payment_method': None,\n",
       "  'valid': False},\n",
       " {'id': 'cus_PZh7rdGEsVRNPN',\n",
       "  'name': 'Otavio Tavares',\n",
       "  'email': 'tata@example.com',\n",
       "  'payment_method': None,\n",
       "  'valid': False},\n",
       " {'id': 'cus_PZgtgNnS31dn4F',\n",
       "  'name': 'Otavio Tavares',\n",
       "  'email': 'tata@example.com',\n",
       "  'payment_method': None,\n",
       "  'valid': False},\n",
       " {'id': 'cus_PZgLtc1xOWFUse',\n",
       "  'name': 'Vitor Zucher',\n",
       "  'email': 'vzucher@example.com',\n",
       "  'payment_method': None,\n",
       "  'valid': False},\n",
       " {'id': 'cus_PZgAgf9vggoCKR',\n",
       "  'name': 'Jenny Rosen',\n",
       "  'email': 'jennyrosen@example.com',\n",
       "  'payment_method': None,\n",
       "  'valid': False},\n",
       " {'id': 'cus_PZg16LstJRL0mb',\n",
       "  'name': 'Jenny Rosen',\n",
       "  'email': 'jennyrosen@example.com',\n",
       "  'payment_method': None,\n",
       "  'valid': False}]"
      ]
     },
     "execution_count": 57,
     "metadata": {},
     "output_type": "execute_result"
    }
   ],
   "source": [
    "users_li"
   ]
  }
 ],
 "metadata": {
  "kernelspec": {
   "display_name": "Python 3 (ipykernel)",
   "language": "python",
   "name": "python3"
  },
  "language_info": {
   "codemirror_mode": {
    "name": "ipython",
    "version": 3
   },
   "file_extension": ".py",
   "mimetype": "text/x-python",
   "name": "python",
   "nbconvert_exporter": "python",
   "pygments_lexer": "ipython3",
   "version": "3.10.6"
  }
 },
 "nbformat": 4,
 "nbformat_minor": 5
}
